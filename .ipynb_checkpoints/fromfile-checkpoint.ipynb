{
 "cells": [
  {
   "cell_type": "code",
   "execution_count": 2,
   "metadata": {},
   "outputs": [],
   "source": [
    "import pandas as pd\n",
    "import json"
   ]
  },
  {
   "cell_type": "code",
   "execution_count": null,
   "metadata": {},
   "outputs": [],
   "source": []
  },
  {
   "cell_type": "code",
   "execution_count": 4,
   "metadata": {},
   "outputs": [
    {
     "name": "stdout",
     "output_type": "stream",
     "text": [
      "{'CAD': 1.5547, 'HKD': 8.9294, 'ISK': 133.4, 'PHP': 59.894, 'DKK': 7.4669, 'HUF': 322.37, 'CZK': 25.752, 'AUD': 1.6273, 'RON': 4.66, 'SEK': 10.2145, 'IDR': 16484.11, 'INR': 79.9855, 'BRL': 4.393, 'RUB': 79.3589, 'HRK': 7.4205, 'JPY': 124.28, 'THB': 36.807, 'CHF': 1.1239, 'SGD': 1.5554999999999999, 'PLN': 4.2964, 'BGN': 1.9558, 'TRY': 6.113, 'CNY': 7.8165, 'NOK': 9.9108, 'NZD': 1.7049, 'ZAR': 16.5075, 'USD': 1.1397, 'MXN': 22.3941, 'ILS': 4.2708, 'GBP': 0.9016500000000001, 'KRW': 1278.52, 'MYR': 4.7195}\n"
     ]
    }
   ],
   "source": [
    "x = pd.read_json('data.json')\n",
    "df = pd.DataFrame(x)\n",
    "print(df['rates']['2019-01-02'])"
   ]
  },
  {
   "cell_type": "code",
   "execution_count": null,
   "metadata": {},
   "outputs": [],
   "source": []
  },
  {
   "cell_type": "code",
   "execution_count": null,
   "metadata": {},
   "outputs": [],
   "source": []
  },
  {
   "cell_type": "code",
   "execution_count": null,
   "metadata": {},
   "outputs": [],
   "source": []
  },
  {
   "cell_type": "code",
   "execution_count": 6,
   "metadata": {},
   "outputs": [
    {
     "name": "stdout",
     "output_type": "stream",
     "text": [
      "Error\n",
      "79.9855\n",
      "79.608\n",
      "79.4315\n",
      "Error\n",
      "Error\n",
      "79.6895\n",
      "80.245\n",
      "80.6365\n",
      "81.2005\n",
      "81.3475\n",
      "Error\n",
      "Error\n",
      "81.2195\n",
      "81.231\n",
      "81.0055\n",
      "80.9765\n",
      "81.0875\n",
      "Error\n",
      "Error\n",
      "80.9335\n",
      "81.046\n",
      "81.0535\n",
      "80.656\n",
      "80.634\n",
      "Error\n",
      "Error\n",
      "81.232\n",
      "81.306\n",
      "81.351\n",
      "81.686\n"
     ]
    }
   ],
   "source": [
    "inr = []\n",
    "str1 = ''\n",
    "\n",
    "for i in range(1,32):\n",
    "    if(i < 10):\n",
    "        str1 = '0'+ str(i);\n",
    "    else:\n",
    "        str1 = str(i);\n",
    "    try:    \n",
    "        y = x['rates']['2019-01-'+str1]['INR']\n",
    "        print(y)\n",
    "        inr.append(y)\n",
    "    except:\n",
    "        print('Error')"
   ]
  },
  {
   "cell_type": "code",
   "execution_count": 7,
   "metadata": {},
   "outputs": [
    {
     "name": "stdout",
     "output_type": "stream",
     "text": [
      "[79.9855, 79.608, 79.4315, 79.6895, 80.245, 80.6365, 81.2005, 81.3475, 81.2195, 81.231, 81.0055, 80.9765, 81.0875, 80.9335, 81.046, 81.0535, 80.656, 80.634, 81.232, 81.306, 81.351, 81.686]\n"
     ]
    }
   ],
   "source": [
    "print(inr)"
   ]
  },
  {
   "cell_type": "code",
   "execution_count": null,
   "metadata": {},
   "outputs": [],
   "source": []
  },
  {
   "cell_type": "code",
   "execution_count": null,
   "metadata": {},
   "outputs": [],
   "source": []
  },
  {
   "cell_type": "code",
   "execution_count": null,
   "metadata": {},
   "outputs": [],
   "source": []
  },
  {
   "cell_type": "code",
   "execution_count": 48,
   "metadata": {},
   "outputs": [
    {
     "name": "stdout",
     "output_type": "stream",
     "text": [
      "Error\n",
      "Error\n",
      "Error\n",
      "Error\n",
      "Error\n",
      "Error\n",
      "Error\n",
      "Error\n",
      "Error\n",
      "[33.741, 33.614, 33.744, 33.823, 33.74, 33.647, 33.534, 33.62, 33.624, 33.693, 33.915, 33.746, 33.647, 33.79, 33.685, 33.883, 33.723, 33.869, 33.945, 34.07, 34.405, 34.46, 0.84828, 0.8511500000000001, 0.8521500000000001, 0.8518300000000001, 0.8486800000000001, 0.8528500000000001, 0.8481000000000001, 0.8576, 0.85618, 0.8568300000000001, 0.8547, 0.8510500000000001, 0.8527500000000001, 0.8503000000000001, 0.84445, 0.8449800000000001, 0.84313, 0.8435800000000001, 0.8460300000000001, 0.8458, 0.8418300000000001, 0.8417500000000001]\n"
     ]
    }
   ],
   "source": [
    "for i in range(1,32):\n",
    "    if(i < 10):\n",
    "        str1 = '0'+ str(i);\n",
    "    else:\n",
    "        str1 = str(i);\n",
    "    try:    \n",
    "        z = x['rates']['2020-01-'+str1]['GBP']\n",
    "#         print(y)\n",
    "        eur.append(z)\n",
    "    except:\n",
    "        print('Error')\n",
    "        \n",
    "print(eur)"
   ]
  },
  {
   "cell_type": "code",
   "execution_count": null,
   "metadata": {},
   "outputs": [],
   "source": []
  },
  {
   "cell_type": "code",
   "execution_count": null,
   "metadata": {},
   "outputs": [],
   "source": []
  },
  {
   "cell_type": "code",
   "execution_count": null,
   "metadata": {},
   "outputs": [],
   "source": []
  },
  {
   "cell_type": "code",
   "execution_count": null,
   "metadata": {},
   "outputs": [],
   "source": []
  },
  {
   "cell_type": "code",
   "execution_count": null,
   "metadata": {},
   "outputs": [],
   "source": []
  },
  {
   "cell_type": "code",
   "execution_count": null,
   "metadata": {},
   "outputs": [],
   "source": []
  },
  {
   "cell_type": "code",
   "execution_count": null,
   "metadata": {},
   "outputs": [],
   "source": []
  },
  {
   "cell_type": "code",
   "execution_count": null,
   "metadata": {},
   "outputs": [],
   "source": []
  },
  {
   "cell_type": "code",
   "execution_count": null,
   "metadata": {},
   "outputs": [],
   "source": []
  },
  {
   "cell_type": "code",
   "execution_count": null,
   "metadata": {},
   "outputs": [],
   "source": []
  },
  {
   "cell_type": "code",
   "execution_count": null,
   "metadata": {},
   "outputs": [],
   "source": []
  },
  {
   "cell_type": "code",
   "execution_count": null,
   "metadata": {},
   "outputs": [],
   "source": []
  },
  {
   "cell_type": "code",
   "execution_count": null,
   "metadata": {},
   "outputs": [],
   "source": []
  },
  {
   "cell_type": "code",
   "execution_count": null,
   "metadata": {},
   "outputs": [],
   "source": []
  },
  {
   "cell_type": "code",
   "execution_count": null,
   "metadata": {},
   "outputs": [],
   "source": []
  },
  {
   "cell_type": "code",
   "execution_count": null,
   "metadata": {},
   "outputs": [],
   "source": []
  },
  {
   "cell_type": "code",
   "execution_count": null,
   "metadata": {},
   "outputs": [],
   "source": []
  },
  {
   "cell_type": "code",
   "execution_count": null,
   "metadata": {},
   "outputs": [],
   "source": []
  },
  {
   "cell_type": "code",
   "execution_count": null,
   "metadata": {},
   "outputs": [],
   "source": []
  },
  {
   "cell_type": "code",
   "execution_count": null,
   "metadata": {},
   "outputs": [],
   "source": []
  },
  {
   "cell_type": "code",
   "execution_count": null,
   "metadata": {},
   "outputs": [],
   "source": []
  },
  {
   "cell_type": "code",
   "execution_count": null,
   "metadata": {},
   "outputs": [],
   "source": []
  },
  {
   "cell_type": "code",
   "execution_count": 24,
   "metadata": {},
   "outputs": [
    {
     "name": "stdout",
     "output_type": "stream",
     "text": [
      "01\n"
     ]
    }
   ],
   "source": [
    "i = 1\n",
    "str1 = '0' + str(i)\n",
    "print(str1)"
   ]
  },
  {
   "cell_type": "code",
   "execution_count": null,
   "metadata": {},
   "outputs": [],
   "source": []
  },
  {
   "cell_type": "code",
   "execution_count": null,
   "metadata": {},
   "outputs": [],
   "source": []
  },
  {
   "cell_type": "code",
   "execution_count": null,
   "metadata": {},
   "outputs": [],
   "source": []
  },
  {
   "cell_type": "code",
   "execution_count": null,
   "metadata": {},
   "outputs": [],
   "source": []
  },
  {
   "cell_type": "code",
   "execution_count": null,
   "metadata": {},
   "outputs": [],
   "source": []
  },
  {
   "cell_type": "code",
   "execution_count": null,
   "metadata": {},
   "outputs": [],
   "source": []
  },
  {
   "cell_type": "code",
   "execution_count": null,
   "metadata": {},
   "outputs": [],
   "source": []
  },
  {
   "cell_type": "code",
   "execution_count": null,
   "metadata": {},
   "outputs": [],
   "source": []
  },
  {
   "cell_type": "code",
   "execution_count": null,
   "metadata": {},
   "outputs": [],
   "source": []
  },
  {
   "cell_type": "code",
   "execution_count": null,
   "metadata": {},
   "outputs": [],
   "source": []
  },
  {
   "cell_type": "code",
   "execution_count": null,
   "metadata": {},
   "outputs": [],
   "source": []
  },
  {
   "cell_type": "code",
   "execution_count": null,
   "metadata": {},
   "outputs": [],
   "source": []
  },
  {
   "cell_type": "code",
   "execution_count": null,
   "metadata": {},
   "outputs": [],
   "source": []
  },
  {
   "cell_type": "code",
   "execution_count": null,
   "metadata": {},
   "outputs": [],
   "source": []
  },
  {
   "cell_type": "code",
   "execution_count": null,
   "metadata": {},
   "outputs": [],
   "source": []
  },
  {
   "cell_type": "code",
   "execution_count": null,
   "metadata": {},
   "outputs": [],
   "source": []
  },
  {
   "cell_type": "code",
   "execution_count": null,
   "metadata": {},
   "outputs": [],
   "source": []
  },
  {
   "cell_type": "code",
   "execution_count": null,
   "metadata": {},
   "outputs": [],
   "source": []
  },
  {
   "cell_type": "code",
   "execution_count": null,
   "metadata": {},
   "outputs": [],
   "source": []
  },
  {
   "cell_type": "code",
   "execution_count": null,
   "metadata": {},
   "outputs": [],
   "source": []
  },
  {
   "cell_type": "code",
   "execution_count": null,
   "metadata": {},
   "outputs": [],
   "source": []
  }
 ],
 "metadata": {
  "kernelspec": {
   "display_name": "Python 3",
   "language": "python",
   "name": "python3"
  },
  "language_info": {
   "codemirror_mode": {
    "name": "ipython",
    "version": 3
   },
   "file_extension": ".py",
   "mimetype": "text/x-python",
   "name": "python",
   "nbconvert_exporter": "python",
   "pygments_lexer": "ipython3",
   "version": "3.7.1"
  }
 },
 "nbformat": 4,
 "nbformat_minor": 4
}
